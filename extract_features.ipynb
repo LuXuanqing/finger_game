{
 "cells": [
  {
   "cell_type": "code",
   "execution_count": 1,
   "metadata": {},
   "outputs": [
    {
     "name": "stderr",
     "output_type": "stream",
     "text": [
      "C:\\Users\\admin\\Anaconda3\\lib\\site-packages\\h5py\\__init__.py:34: FutureWarning: Conversion of the second argument of issubdtype from `float` to `np.floating` is deprecated. In future, it will be treated as `np.float64 == np.dtype(float).type`.\n",
      "  from ._conv import register_converters as _register_converters\n",
      "Using TensorFlow backend.\n"
     ]
    }
   ],
   "source": [
    "import keras\n",
    "import numpy as np\n",
    "import os\n",
    "from keras.preprocessing.image import ImageDataGenerator\n",
    "from keras.applications import VGG16"
   ]
  },
  {
   "cell_type": "code",
   "execution_count": 2,
   "metadata": {},
   "outputs": [],
   "source": [
    "conv_base = VGG16(include_top=False, input_shape=(240,320,3))"
   ]
  },
  {
   "cell_type": "code",
   "execution_count": 23,
   "metadata": {},
   "outputs": [],
   "source": [
    "base_dir = 'data/images'\n",
    "train_dir = os.path.join(base_dir,'train')\n",
    "val_dir = os.path.join(base_dir,'val')\n",
    "test_dir = os.path.join(base_dir,'test')"
   ]
  },
  {
   "cell_type": "code",
   "execution_count": 4,
   "metadata": {},
   "outputs": [],
   "source": [
    "datagen = ImageDataGenerator(rescale=1./255)"
   ]
  },
  {
   "cell_type": "code",
   "execution_count": 32,
   "metadata": {},
   "outputs": [],
   "source": [
    "def extract_features(dir, sample_count, batch_size):\n",
    "    # temporarili save feture_batches and label_batches\n",
    "    features = []\n",
    "    labels =[]\n",
    "    generator = datagen.flow_from_directory(\n",
    "        dir, \n",
    "        target_size=(240,320),\n",
    "        batch_size=batch_size,\n",
    "        class_mode='categorical')\n",
    "    i = 0\n",
    "    for inputs_batch, labels_batch in generator:\n",
    "        feature_batch = conv_base.predict(inputs_batch)\n",
    "        features.append(feature_batch)\n",
    "        labels.append(labels_batch)        \n",
    "        i += 1\n",
    "        if i * batch_size >= sample_count:\n",
    "            break\n",
    "    features = np.concatenate(features)\n",
    "    labels = np.concatenate(labels)\n",
    "    return features, labels, generator.class_indices"
   ]
  },
  {
   "cell_type": "code",
   "execution_count": 33,
   "metadata": {},
   "outputs": [],
   "source": [
    "n_train = 827\n",
    "n_val = 273\n",
    "n_test = 273"
   ]
  },
  {
   "cell_type": "code",
   "execution_count": 34,
   "metadata": {},
   "outputs": [
    {
     "name": "stdout",
     "output_type": "stream",
     "text": [
      "Found 827 images belonging to 4 classes.\n",
      "Found 273 images belonging to 4 classes.\n",
      "Found 273 images belonging to 4 classes.\n"
     ]
    }
   ],
   "source": [
    "# train_features, train_labels = extract_features(train_dir, n_train)\n",
    "train_features, train_labels, class_indices = extract_features(train_dir, n_train, 32)\n",
    "val_features, val_labels, _ = extract_features(val_dir, n_val, 32)\n",
    "test_features, test_labels, _ = extract_features(test_dir, n_test, 32)"
   ]
  },
  {
   "cell_type": "code",
   "execution_count": 39,
   "metadata": {},
   "outputs": [
    {
     "data": {
      "text/plain": [
       "{'empty': 0, 'paper': 1, 'rock': 2, 'scissor': 3}"
      ]
     },
     "execution_count": 39,
     "metadata": {},
     "output_type": "execute_result"
    }
   ],
   "source": [
    "class_indices"
   ]
  },
  {
   "cell_type": "code",
   "execution_count": 40,
   "metadata": {},
   "outputs": [],
   "source": [
    "np.savez('extracted_features&labels.npz',\n",
    "         train_features=train_features,\n",
    "         train_labels=train_labels,\n",
    "         test_features=test_features,\n",
    "         test_labels=test_labels,\n",
    "         val_features=val_features,\n",
    "         val_labels=val_labels,\n",
    "         class_indices=class_indices)"
   ]
  },
  {
   "cell_type": "code",
   "execution_count": null,
   "metadata": {},
   "outputs": [],
   "source": []
  }
 ],
 "metadata": {
  "kernelspec": {
   "display_name": "Python 3",
   "language": "python",
   "name": "python3"
  },
  "language_info": {
   "codemirror_mode": {
    "name": "ipython",
    "version": 3
   },
   "file_extension": ".py",
   "mimetype": "text/x-python",
   "name": "python",
   "nbconvert_exporter": "python",
   "pygments_lexer": "ipython3",
   "version": "3.6.4"
  }
 },
 "nbformat": 4,
 "nbformat_minor": 2
}
