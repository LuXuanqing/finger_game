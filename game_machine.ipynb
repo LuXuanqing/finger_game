{
 "cells": [
  {
   "cell_type": "code",
   "execution_count": 1,
   "metadata": {},
   "outputs": [
    {
     "name": "stderr",
     "output_type": "stream",
     "text": [
      "C:\\Users\\admin\\Anaconda3\\lib\\site-packages\\h5py\\__init__.py:34: FutureWarning: Conversion of the second argument of issubdtype from `float` to `np.floating` is deprecated. In future, it will be treated as `np.float64 == np.dtype(float).type`.\n",
      "  from ._conv import register_converters as _register_converters\n",
      "Using TensorFlow backend.\n"
     ]
    }
   ],
   "source": [
    "from keras import models\n",
    "from keras.preprocessing import image\n",
    "import numpy as np\n",
    "import cv2 as cv"
   ]
  },
  {
   "cell_type": "code",
   "execution_count": 2,
   "metadata": {},
   "outputs": [],
   "source": [
    "CLASS_INDEX = {'0': 'empty',\n",
    "              '1': 'paper',\n",
    "              '2': 'rock',\n",
    "              '3': 'scissor'}"
   ]
  },
  {
   "cell_type": "code",
   "execution_count": 3,
   "metadata": {},
   "outputs": [
    {
     "name": "stderr",
     "output_type": "stream",
     "text": [
      "C:\\Users\\admin\\Anaconda3\\lib\\site-packages\\keras\\models.py:291: UserWarning: Error in loading the saved optimizer state. As a result, your model is starting with a freshly initialized optimizer.\n",
      "  warnings.warn('Error in loading the saved optimizer '\n"
     ]
    }
   ],
   "source": [
    "model = models.load_model('my_new_model_2.h5')"
   ]
  },
  {
   "cell_type": "code",
   "execution_count": 4,
   "metadata": {},
   "outputs": [],
   "source": [
    "rock = cv.imread('images/rock.jpg')\n",
    "paper = cv.imread('images/paper.jpg')\n",
    "scissor = cv.imread('images/scissor.jpg')\n",
    "empty = cv.imread('images/empty.jpg')"
   ]
  },
  {
   "cell_type": "code",
   "execution_count": 30,
   "metadata": {},
   "outputs": [],
   "source": [
    "def decode(preds):\n",
    "    pred = preds[0]\n",
    "    index = pred.argmax()\n",
    "    score = max(pred)\n",
    "    return (index, score)"
   ]
  },
  {
   "cell_type": "code",
   "execution_count": 6,
   "metadata": {},
   "outputs": [],
   "source": [
    "def preprocess(arr):\n",
    "    # resize\n",
    "    x = cv.resize(arr,(320,240))\n",
    "    # BGR 2 RGB\n",
    "    x = cv.cvtColor(x, cv.COLOR_BGR2RGB)\n",
    "    x = np.expand_dims(x,0).astype('float32')\n",
    "    x /= 255\n",
    "    return x"
   ]
  },
  {
   "cell_type": "code",
   "execution_count": 37,
   "metadata": {},
   "outputs": [],
   "source": [
    "def ka():\n",
    "    cap = cv.VideoCapture(0)\n",
    "    cv.namedWindow('human', cv.WINDOW_NORMAL)\n",
    "    cv.namedWindow('machine', cv.WINDOW_NORMAL)\n",
    "    cv.resizeWindow('human', (640, 480))\n",
    "    cv.resizeWindow('machine', (640, 480))\n",
    "    while True:\n",
    "        s,f = cap.read()  \n",
    "        # predict\n",
    "        x = preprocess(f)\n",
    "        y = model.predict(x)\n",
    "        index, score = decode(y)\n",
    "        # give answer\n",
    "        if index == 1:\n",
    "            cv.imshow('machine', scissor)\n",
    "        elif index == 2:\n",
    "            cv.imshow('machine', paper)\n",
    "        elif index == 3:\n",
    "            cv.imshow('machine', rock)\n",
    "        else:\n",
    "            cv.imshow('machine', empty)\n",
    "        # input image & recognition result\n",
    "        if not index == 0:\n",
    "            cv.putText(img=f,\n",
    "                       text='{:.0f}% {}'.format(score*100, CLASS_INDEX[str(index)]),\n",
    "                       org=(250,420),\n",
    "                       fontFace=cv.FONT_HERSHEY_SIMPLEX,\n",
    "                       fontScale=1.2,\n",
    "                       color=(0,198,255),\n",
    "                       thickness=2)\n",
    "        cv.imshow('human',f)\n",
    "        # refresh\n",
    "        if cv.waitKey(1) & 0xFF == ord('q'):\n",
    "            break\n",
    "    cv.destroyAllWindows()\n",
    "    cap.release()"
   ]
  },
  {
   "cell_type": "code",
   "execution_count": 38,
   "metadata": {},
   "outputs": [],
   "source": [
    "ka()"
   ]
  }
 ],
 "metadata": {
  "kernelspec": {
   "display_name": "Python 3",
   "language": "python",
   "name": "python3"
  },
  "language_info": {
   "codemirror_mode": {
    "name": "ipython",
    "version": 3
   },
   "file_extension": ".py",
   "mimetype": "text/x-python",
   "name": "python",
   "nbconvert_exporter": "python",
   "pygments_lexer": "ipython3",
   "version": "3.6.4"
  }
 },
 "nbformat": 4,
 "nbformat_minor": 2
}
