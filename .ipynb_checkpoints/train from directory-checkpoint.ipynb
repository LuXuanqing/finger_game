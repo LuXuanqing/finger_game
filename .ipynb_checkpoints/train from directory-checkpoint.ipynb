{
 "cells": [
  {
   "cell_type": "code",
   "execution_count": 1,
   "metadata": {},
   "outputs": [
    {
     "name": "stderr",
     "output_type": "stream",
     "text": [
      "C:\\Users\\admin\\Anaconda3\\lib\\site-packages\\h5py\\__init__.py:34: FutureWarning: Conversion of the second argument of issubdtype from `float` to `np.floating` is deprecated. In future, it will be treated as `np.float64 == np.dtype(float).type`.\n",
      "  from ._conv import register_converters as _register_converters\n",
      "Using TensorFlow backend.\n"
     ]
    }
   ],
   "source": [
    "import numpy as np\n",
    "import os\n",
    "from keras.preprocessing.image import ImageDataGenerator\n",
    "from keras import applications\n",
    "from keras import models\n",
    "from keras import layers\n",
    "from keras import optimizers"
   ]
  },
  {
   "cell_type": "code",
   "execution_count": 2,
   "metadata": {},
   "outputs": [
    {
     "name": "stdout",
     "output_type": "stream",
     "text": [
      "Found 827 images belonging to 4 classes.\n",
      "Found 273 images belonging to 4 classes.\n",
      "Found 273 images belonging to 4 classes.\n"
     ]
    }
   ],
   "source": [
    "# train, val, test data\n",
    "base_dir = 'images'\n",
    "train_dir = os.path.join(base_dir,'train')\n",
    "val_dir = os.path.join(base_dir, 'val')\n",
    "test_dir = os.path.join(base_dir,'test')\n",
    "train_datagen = ImageDataGenerator(rescale=1./255,\n",
    "                                   rotation_range=40, \n",
    "                                   width_shift_range=0.2,\n",
    "                                   height_shift_range=0.2,\n",
    "                                   shear_range=0.2,\n",
    "                                   zoom_range=0.2,\n",
    "                                   horizontal_flip=True,\n",
    "                                   fill_mode='nearest')\n",
    "train_generator = train_datagen.flow_from_directory(train_dir, target_size=(240,320) )\n",
    "val_generator = train_datagen.flow_from_directory(val_dir, target_size=(240,320))\n",
    "\n",
    "test_datagen = ImageDataGenerator(rescale=1./255)\n",
    "test_generator = test_datagen.flow_from_directory(test_dir, target_size=(240,320))"
   ]
  },
  {
   "cell_type": "code",
   "execution_count": 3,
   "metadata": {},
   "outputs": [
    {
     "name": "stdout",
     "output_type": "stream",
     "text": [
      "_________________________________________________________________\n",
      "Layer (type)                 Output Shape              Param #   \n",
      "=================================================================\n",
      "vgg16 (Model)                (None, 7, 10, 512)        14714688  \n",
      "_________________________________________________________________\n",
      "flatten_1 (Flatten)          (None, 35840)             0         \n",
      "_________________________________________________________________\n",
      "dense_1 (Dense)              (None, 512)               18350592  \n",
      "_________________________________________________________________\n",
      "dropout_1 (Dropout)          (None, 512)               0         \n",
      "_________________________________________________________________\n",
      "dense_2 (Dense)              (None, 256)               131328    \n",
      "_________________________________________________________________\n",
      "dropout_2 (Dropout)          (None, 256)               0         \n",
      "_________________________________________________________________\n",
      "dense_3 (Dense)              (None, 4)                 1028      \n",
      "=================================================================\n",
      "Total params: 33,197,636\n",
      "Trainable params: 18,482,948\n",
      "Non-trainable params: 14,714,688\n",
      "_________________________________________________________________\n"
     ]
    }
   ],
   "source": [
    "# load pretrained model and weights\n",
    "conv_layers = applications.VGG16(include_top=False, input_shape=(240,320,3))\n",
    "conv_layers.trainable = False\n",
    "\n",
    "model = models.Sequential()\n",
    "\n",
    "# my own layers\n",
    "model.add(conv_layers)\n",
    "model.add(layers.Flatten())\n",
    "model.add(layers.Dense(512, activation='relu'))\n",
    "model.add(layers.Dropout(0.5))\n",
    "model.add(layers.Dense(256, activation='relu'))\n",
    "model.add(layers.Dropout(0.5))\n",
    "model.add(layers.Dense(4, activation='softmax'))\n",
    "model.summary()"
   ]
  },
  {
   "cell_type": "code",
   "execution_count": 27,
   "metadata": {},
   "outputs": [],
   "source": [
    "model.compile(loss='categorical_crossentropy', optimizer='adam', metrics=['acc'])"
   ]
  },
  {
   "cell_type": "code",
   "execution_count": 28,
   "metadata": {
    "scrolled": false
   },
   "outputs": [
    {
     "name": "stdout",
     "output_type": "stream",
     "text": [
      "Epoch 1/30\n",
      " - 24s - loss: 3.7103 - acc: 0.6484 - val_loss: 1.8945 - val_acc: 0.7656\n",
      "Epoch 2/30\n",
      " - 14s - loss: 3.4355 - acc: 0.7588 - val_loss: 2.4937 - val_acc: 0.7985\n",
      "Epoch 3/30\n",
      " - 14s - loss: 2.5628 - acc: 0.8238 - val_loss: 1.7723 - val_acc: 0.8462\n",
      "Epoch 4/30\n",
      " - 14s - loss: 2.3772 - acc: 0.8445 - val_loss: 2.7940 - val_acc: 0.7766\n",
      "Epoch 5/30\n",
      " - 14s - loss: 2.5619 - acc: 0.8314 - val_loss: 3.2470 - val_acc: 0.7509\n",
      "Epoch 6/30\n",
      " - 14s - loss: 1.9334 - acc: 0.8685 - val_loss: 2.1302 - val_acc: 0.8352\n",
      "Epoch 7/30\n",
      " - 14s - loss: 2.1608 - acc: 0.8555 - val_loss: 2.3338 - val_acc: 0.8315\n",
      "Epoch 8/30\n",
      " - 14s - loss: 3.2497 - acc: 0.7924 - val_loss: 4.6610 - val_acc: 0.6777\n",
      "Epoch 9/30\n",
      " - 14s - loss: 2.3792 - acc: 0.8459 - val_loss: 4.1077 - val_acc: 0.6996\n",
      "Epoch 10/30\n",
      " - 14s - loss: 2.1445 - acc: 0.8558 - val_loss: 5.0324 - val_acc: 0.6740\n",
      "Epoch 11/30\n",
      " - 14s - loss: 1.9334 - acc: 0.8748 - val_loss: 2.8281 - val_acc: 0.7985\n",
      "Epoch 12/30\n",
      " - 14s - loss: 1.6290 - acc: 0.8904 - val_loss: 2.9533 - val_acc: 0.7985\n",
      "Epoch 13/30\n",
      " - 14s - loss: 1.9158 - acc: 0.8763 - val_loss: 2.2999 - val_acc: 0.8462\n",
      "Epoch 14/30\n",
      " - 14s - loss: 1.7908 - acc: 0.8835 - val_loss: 2.7592 - val_acc: 0.8168\n",
      "Epoch 15/30\n",
      " - 14s - loss: 1.7200 - acc: 0.8873 - val_loss: 1.7587 - val_acc: 0.8828\n",
      "Epoch 16/30\n",
      " - 14s - loss: 1.4666 - acc: 0.9068 - val_loss: 2.5533 - val_acc: 0.8388\n",
      "Epoch 17/30\n",
      " - 14s - loss: 1.4110 - acc: 0.9084 - val_loss: 1.7531 - val_acc: 0.8645\n",
      "Epoch 18/30\n",
      " - 14s - loss: 1.7890 - acc: 0.8843 - val_loss: 3.1892 - val_acc: 0.7875\n",
      "Epoch 19/30\n",
      " - 14s - loss: 2.0182 - acc: 0.8721 - val_loss: 2.9158 - val_acc: 0.8059\n",
      "Epoch 20/30\n",
      " - 14s - loss: 1.9795 - acc: 0.8709 - val_loss: 1.9676 - val_acc: 0.8681\n",
      "Epoch 21/30\n",
      " - 14s - loss: 1.6055 - acc: 0.8986 - val_loss: 2.3769 - val_acc: 0.8425\n",
      "Epoch 22/30\n",
      " - 14s - loss: 1.5585 - acc: 0.9022 - val_loss: 1.8363 - val_acc: 0.8828\n",
      "Epoch 23/30\n",
      " - 14s - loss: 1.5681 - acc: 0.8996 - val_loss: 3.8891 - val_acc: 0.7509\n",
      "Epoch 24/30\n",
      " - 14s - loss: 3.0814 - acc: 0.8057 - val_loss: 4.1300 - val_acc: 0.7363\n",
      "Epoch 25/30\n",
      " - 14s - loss: 2.0949 - acc: 0.8659 - val_loss: 2.0709 - val_acc: 0.8645\n",
      "Epoch 26/30\n",
      " - 14s - loss: 1.8261 - acc: 0.8859 - val_loss: 2.5428 - val_acc: 0.8388\n",
      "Epoch 27/30\n",
      " - 14s - loss: 2.2969 - acc: 0.8551 - val_loss: 2.4185 - val_acc: 0.8388\n",
      "Epoch 28/30\n",
      " - 14s - loss: 2.4508 - acc: 0.8462 - val_loss: 3.3342 - val_acc: 0.7839\n",
      "Epoch 29/30\n",
      " - 14s - loss: 1.9125 - acc: 0.8799 - val_loss: 2.1669 - val_acc: 0.8645\n",
      "Epoch 30/30\n",
      " - 14s - loss: 1.4415 - acc: 0.9082 - val_loss: 1.9715 - val_acc: 0.8718\n"
     ]
    }
   ],
   "source": [
    "history = model.fit_generator(train_generator, steps_per_epoch=26, epochs=30, \n",
    "                              validation_data=val_generator, validation_steps=9, verbose=2)"
   ]
  },
  {
   "cell_type": "code",
   "execution_count": 29,
   "metadata": {},
   "outputs": [
    {
     "data": {
      "image/png": "[encoded data removed]",
      "text/plain": [
       "<matplotlib.figure.Figure at 0x242aef09908>"
      ]
     },
     "metadata": {},
     "output_type": "display_data"
    },
    {
     "data": {
      "image/png": "[encoded data removed]",
      "text/plain": [
       "<matplotlib.figure.Figure at 0x242acfa0cc0>"
      ]
     },
     "metadata": {},
     "output_type": "display_data"
    }
   ],
   "source": [
    "import matplotlib.pyplot as plt\n",
    "acc = history.history['acc']\n",
    "val_acc = history.history['val_acc']\n",
    "loss = history.history['loss']\n",
    "val_loss = history.history['val_loss']\n",
    "\n",
    "epochs = range(len(acc))\n",
    "\n",
    "plt.plot(epochs, acc, 'bo', label='Training acc')\n",
    "plt.plot(epochs, val_acc, 'b', label='Validation acc')\n",
    "plt.title('Training and validation accuracy')\n",
    "plt.legend()\n",
    "\n",
    "plt.figure()\n",
    "\n",
    "plt.plot(epochs, loss, 'bo', label='Training loss')\n",
    "plt.plot(epochs, val_loss, 'b', label='Validation loss')\n",
    "plt.title('Training and validation loss')\n",
    "plt.legend()\n",
    "\n",
    "plt.show()"
   ]
  },
  {
   "cell_type": "code",
   "execution_count": 30,
   "metadata": {},
   "outputs": [
    {
     "name": "stdout",
     "output_type": "stream",
     "text": [
      "test acc: 0.8457609809577404\n"
     ]
    }
   ],
   "source": [
    "test_loss, test_acc = model.evaluate_generator(test_generator, steps=32)\n",
    "print('test acc:', test_acc)"
   ]
  },
  {
   "cell_type": "code",
   "execution_count": 25,
   "metadata": {},
   "outputs": [],
   "source": [
    "model.save('my_new_model_2.h5')"
   ]
  },
  {
   "cell_type": "code",
   "execution_count": null,
   "metadata": {},
   "outputs": [],
   "source": []
  }
 ],
 "metadata": {
  "kernelspec": {
   "display_name": "Python 3",
   "language": "python",
   "name": "python3"
  },
  "language_info": {
   "codemirror_mode": {
    "name": "ipython",
    "version": 3
   },
   "file_extension": ".py",
   "mimetype": "text/x-python",
   "name": "python",
   "nbconvert_exporter": "python",
   "pygments_lexer": "ipython3",
   "version": "3.6.4"
  }
 },
 "nbformat": 4,
 "nbformat_minor": 2
}
