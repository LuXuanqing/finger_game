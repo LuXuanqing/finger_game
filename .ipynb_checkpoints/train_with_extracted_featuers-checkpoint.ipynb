{
 "cells": [
  {
   "cell_type": "code",
   "execution_count": 3,
   "metadata": {},
   "outputs": [],
   "source": [
    "import numpy as np\n",
    "from keras.utils import to_categorical\n",
    "from keras import models\n",
    "from keras import layers\n",
    "from keras import optimizers"
   ]
  },
  {
   "cell_type": "code",
   "execution_count": 4,
   "metadata": {},
   "outputs": [],
   "source": [
    "data = np.load('extracted_data.npz')"
   ]
  },
  {
   "cell_type": "code",
   "execution_count": 5,
   "metadata": {},
   "outputs": [],
   "source": [
    "train_features = data['train_features']\n",
    "train_labels = data['train_labels']\n",
    "test_features = data['test_features']\n",
    "test_labels = data['test_labels']"
   ]
  },
  {
   "cell_type": "code",
   "execution_count": 6,
   "metadata": {},
   "outputs": [],
   "source": [
    "test_labels = to_categorical(test_labels)\n",
    "train_labels = to_categorical(train_labels)"
   ]
  },
  {
   "cell_type": "code",
   "execution_count": 9,
   "metadata": {
    "scrolled": true
   },
   "outputs": [
    {
     "name": "stdout",
     "output_type": "stream",
     "text": [
      "(1809, 7, 10, 512)\n",
      "(1809, 4)\n"
     ]
    }
   ],
   "source": [
    "print(train_features.shape)\n",
    "print(train_labels.shape)"
   ]
  },
  {
   "cell_type": "code",
   "execution_count": 10,
   "metadata": {},
   "outputs": [],
   "source": [
    "model = models.Sequential()\n",
    "model.add(layers.Flatten(input_shape=(7,10,512)))\n",
    "model.add(layers.Dense(128,activation='relu'))\n",
    "model.add(layers.Dropout(0.5))\n",
    "model.add(layers.Dense(4, activation='softmax'))"
   ]
  },
  {
   "cell_type": "code",
   "execution_count": 11,
   "metadata": {},
   "outputs": [],
   "source": [
    "model.compile(optimizer=optimizers.RMSprop(lr=2e-5),\n",
    "             loss='categorical_crossentropy',\n",
    "             metrics=['acc'])"
   ]
  },
  {
   "cell_type": "code",
   "execution_count": 12,
   "metadata": {},
   "outputs": [
    {
     "name": "stdout",
     "output_type": "stream",
     "text": [
      "Train on 1266 samples, validate on 543 samples\n",
      "Epoch 1/20\n",
      "1266/1266 [==============================] - 2s 2ms/step - loss: 1.0994 - acc: 0.5308 - val_loss: 0.7832 - val_acc: 0.6943\n",
      "Epoch 2/20\n",
      "1266/1266 [==============================] - 1s 934us/step - loss: 0.6048 - acc: 0.8081 - val_loss: 0.4518 - val_acc: 0.9227\n",
      "Epoch 3/20\n",
      "1266/1266 [==============================] - 1s 913us/step - loss: 0.3696 - acc: 0.9163 - val_loss: 0.2749 - val_acc: 0.9558\n",
      "Epoch 4/20\n",
      "1266/1266 [==============================] - 1s 876us/step - loss: 0.2451 - acc: 0.9439 - val_loss: 0.1903 - val_acc: 0.9669\n",
      "Epoch 5/20\n",
      "1266/1266 [==============================] - 1s 861us/step - loss: 0.1665 - acc: 0.9692 - val_loss: 0.1395 - val_acc: 0.9761\n",
      "Epoch 6/20\n",
      "1266/1266 [==============================] - 1s 857us/step - loss: 0.1247 - acc: 0.9755 - val_loss: 0.1060 - val_acc: 0.9816\n",
      "Epoch 7/20\n",
      "1266/1266 [==============================] - 1s 842us/step - loss: 0.0818 - acc: 0.9929 - val_loss: 0.0771 - val_acc: 0.9871\n",
      "Epoch 8/20\n",
      "1266/1266 [==============================] - 1s 882us/step - loss: 0.0604 - acc: 0.9945 - val_loss: 0.0804 - val_acc: 0.9834\n",
      "Epoch 9/20\n",
      "1266/1266 [==============================] - 1s 908us/step - loss: 0.0511 - acc: 0.9921 - val_loss: 0.0537 - val_acc: 0.9926\n",
      "Epoch 10/20\n",
      "1266/1266 [==============================] - 1s 890us/step - loss: 0.0389 - acc: 0.9961 - val_loss: 0.0461 - val_acc: 0.9908\n",
      "Epoch 11/20\n",
      "1266/1266 [==============================] - 1s 860us/step - loss: 0.0296 - acc: 0.9984 - val_loss: 0.0363 - val_acc: 0.9926\n",
      "Epoch 12/20\n",
      "1266/1266 [==============================] - 1s 892us/step - loss: 0.0211 - acc: 0.9992 - val_loss: 0.0321 - val_acc: 0.9926\n",
      "Epoch 13/20\n",
      "1266/1266 [==============================] - 1s 885us/step - loss: 0.0169 - acc: 0.9992 - val_loss: 0.0449 - val_acc: 0.9908\n",
      "Epoch 14/20\n",
      "1266/1266 [==============================] - 1s 871us/step - loss: 0.0155 - acc: 1.0000 - val_loss: 0.0270 - val_acc: 0.9926\n",
      "Epoch 15/20\n",
      "1266/1266 [==============================] - 1s 844us/step - loss: 0.0141 - acc: 1.0000 - val_loss: 0.0318 - val_acc: 0.9908\n",
      "Epoch 16/20\n",
      "1266/1266 [==============================] - 1s 847us/step - loss: 0.0096 - acc: 1.0000 - val_loss: 0.0275 - val_acc: 0.9908\n",
      "Epoch 17/20\n",
      "1266/1266 [==============================] - 1s 884us/step - loss: 0.0078 - acc: 1.0000 - val_loss: 0.0340 - val_acc: 0.9908\n",
      "Epoch 18/20\n",
      "1266/1266 [==============================] - 1s 861us/step - loss: 0.0056 - acc: 1.0000 - val_loss: 0.0183 - val_acc: 0.9945\n",
      "Epoch 19/20\n",
      "1266/1266 [==============================] - 1s 917us/step - loss: 0.0047 - acc: 1.0000 - val_loss: 0.0167 - val_acc: 0.9945\n",
      "Epoch 20/20\n",
      "1266/1266 [==============================] - 1s 895us/step - loss: 0.0056 - acc: 1.0000 - val_loss: 0.0283 - val_acc: 0.9945\n"
     ]
    }
   ],
   "source": [
    "history = model.fit(train_features, \n",
    "                    train_labels, \n",
    "                    epochs=20,\n",
    "                    batch_size=20, \n",
    "                    validation_split=0.3)"
   ]
  },
  {
   "cell_type": "code",
   "execution_count": 13,
   "metadata": {},
   "outputs": [
    {
     "data": {
      "image/png": "[encoded data removed]",
      "text/plain": [
       "<matplotlib.figure.Figure at 0x28899fa1e10>"
      ]
     },
     "metadata": {},
     "output_type": "display_data"
    },
    {
     "data": {
      "image/png": "[encoded data removed]",
      "text/plain": [
       "<matplotlib.figure.Figure at 0x28895fd4ba8>"
      ]
     },
     "metadata": {},
     "output_type": "display_data"
    }
   ],
   "source": [
    "import matplotlib.pyplot as plt\n",
    "\n",
    "acc = history.history['acc']\n",
    "val_acc = history.history['val_acc']\n",
    "loss = history.history['loss']\n",
    "val_loss = history.history['val_loss']\n",
    "\n",
    "epochs = range(len(acc))\n",
    "\n",
    "plt.plot(epochs, acc, 'bo', label='Training acc')\n",
    "plt.plot(epochs, val_acc, 'b', label='Validation acc')\n",
    "plt.title('Training and validation accuracy')\n",
    "plt.legend()\n",
    "\n",
    "plt.figure()\n",
    "\n",
    "plt.plot(epochs, loss, 'bo', label='Training loss')\n",
    "plt.plot(epochs, val_loss, 'b', label='Validation loss')\n",
    "plt.title('Training and validation loss')\n",
    "plt.legend()\n",
    "\n",
    "plt.show()"
   ]
  },
  {
   "cell_type": "code",
   "execution_count": 14,
   "metadata": {},
   "outputs": [
    {
     "name": "stdout",
     "output_type": "stream",
     "text": [
      "451/451 [==============================] - 0s 391us/step\n"
     ]
    },
    {
     "data": {
      "text/plain": [
       "[0.009242013915588546, 0.9977827050997783]"
      ]
     },
     "execution_count": 14,
     "metadata": {},
     "output_type": "execute_result"
    }
   ],
   "source": [
    "model.evaluate(test_features, test_labels)"
   ]
  },
  {
   "cell_type": "code",
   "execution_count": 15,
   "metadata": {},
   "outputs": [],
   "source": [
    "model.save('top_layers.h5')"
   ]
  },
  {
   "cell_type": "code",
   "execution_count": null,
   "metadata": {},
   "outputs": [],
   "source": []
  }
 ],
 "metadata": {
  "kernelspec": {
   "display_name": "Python 3",
   "language": "python",
   "name": "python3"
  },
  "language_info": {
   "codemirror_mode": {
    "name": "ipython",
    "version": 3
   },
   "file_extension": ".py",
   "mimetype": "text/x-python",
   "name": "python",
   "nbconvert_exporter": "python",
   "pygments_lexer": "ipython3",
   "version": "3.6.4"
  }
 },
 "nbformat": 4,
 "nbformat_minor": 2
}
