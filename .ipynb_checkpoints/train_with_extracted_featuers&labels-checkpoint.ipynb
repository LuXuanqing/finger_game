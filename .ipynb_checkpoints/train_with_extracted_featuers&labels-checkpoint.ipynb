{
 "cells": [
  {
   "cell_type": "code",
   "execution_count": 1,
   "metadata": {},
   "outputs": [
    {
     "name": "stderr",
     "output_type": "stream",
     "text": [
      "C:\\Users\\admin\\Anaconda3\\lib\\site-packages\\h5py\\__init__.py:34: FutureWarning: Conversion of the second argument of issubdtype from `float` to `np.floating` is deprecated. In future, it will be treated as `np.float64 == np.dtype(float).type`.\n",
      "  from ._conv import register_converters as _register_converters\n",
      "Using TensorFlow backend.\n"
     ]
    }
   ],
   "source": [
    "import numpy as np\n",
    "from keras import models\n",
    "from keras import layers\n",
    "from keras import optimizers"
   ]
  },
  {
   "cell_type": "code",
   "execution_count": 2,
   "metadata": {},
   "outputs": [],
   "source": [
    "data = np.load('extracted_features&labels.npz')"
   ]
  },
  {
   "cell_type": "code",
   "execution_count": 3,
   "metadata": {},
   "outputs": [],
   "source": [
    "train_features = data['train_features']\n",
    "train_labels = data['train_labels']\n",
    "test_features = data['test_features']\n",
    "test_labels = data['test_labels']\n",
    "val_features = data['val_features']\n",
    "val_labels = data['val_labels']\n",
    "class_indices = data['class_indices']"
   ]
  },
  {
   "cell_type": "code",
   "execution_count": 5,
   "metadata": {},
   "outputs": [],
   "source": [
    "model = models.Sequential()\n",
    "model.add(layers.Flatten(input_shape=(7,10,512)))\n",
    "model.add(layers.Dense(512,activation='relu'))\n",
    "model.add(layers.Dropout(0.5))\n",
    "model.add(layers.Dense(256,activation='relu'))\n",
    "model.add(layers.Dropout(0.5))\n",
    "model.add(layers.Dense(4, activation='softmax'))"
   ]
  },
  {
   "cell_type": "code",
   "execution_count": 7,
   "metadata": {},
   "outputs": [],
   "source": [
    "model.compile(optimizer='adam',\n",
    "             loss='categorical_crossentropy',\n",
    "             metrics=['acc'])"
   ]
  },
  {
   "cell_type": "code",
   "execution_count": 8,
   "metadata": {},
   "outputs": [
    {
     "name": "stdout",
     "output_type": "stream",
     "text": [
      "Train on 827 samples, validate on 273 samples\n",
      "Epoch 1/30\n",
      " - 3s - loss: 2.9486 - acc: 0.5284 - val_loss: 0.3558 - val_acc: 0.8791\n",
      "Epoch 2/30\n",
      " - 1s - loss: 0.4420 - acc: 0.8561 - val_loss: 0.0426 - val_acc: 0.9927\n",
      "Epoch 3/30\n",
      " - 1s - loss: 0.1752 - acc: 0.9359 - val_loss: 0.0533 - val_acc: 0.9817\n",
      "Epoch 4/30\n",
      " - 1s - loss: 0.1389 - acc: 0.9516 - val_loss: 0.0107 - val_acc: 1.0000\n",
      "Epoch 5/30\n",
      " - 1s - loss: 0.0608 - acc: 0.9782 - val_loss: 0.0051 - val_acc: 1.0000\n",
      "Epoch 6/30\n",
      " - 1s - loss: 0.0576 - acc: 0.9819 - val_loss: 0.0089 - val_acc: 1.0000\n",
      "Epoch 7/30\n",
      " - 1s - loss: 0.0404 - acc: 0.9855 - val_loss: 0.0068 - val_acc: 1.0000\n",
      "Epoch 8/30\n",
      " - 1s - loss: 0.0315 - acc: 0.9903 - val_loss: 0.0183 - val_acc: 0.9890\n",
      "Epoch 9/30\n",
      " - 1s - loss: 0.0302 - acc: 0.9903 - val_loss: 0.0013 - val_acc: 1.0000\n",
      "Epoch 10/30\n",
      " - 1s - loss: 0.0460 - acc: 0.9855 - val_loss: 0.0037 - val_acc: 1.0000\n",
      "Epoch 11/30\n",
      " - 1s - loss: 0.0280 - acc: 0.9903 - val_loss: 0.0095 - val_acc: 0.9963\n",
      "Epoch 12/30\n",
      " - 1s - loss: 0.0239 - acc: 0.9927 - val_loss: 0.0015 - val_acc: 1.0000\n",
      "Epoch 13/30\n",
      " - 1s - loss: 0.0152 - acc: 0.9952 - val_loss: 0.0103 - val_acc: 0.9963\n",
      "Epoch 14/30\n",
      " - 1s - loss: 0.0136 - acc: 0.9940 - val_loss: 0.0018 - val_acc: 1.0000\n",
      "Epoch 15/30\n",
      " - 1s - loss: 0.0185 - acc: 0.9952 - val_loss: 0.0356 - val_acc: 0.9890\n",
      "Epoch 16/30\n",
      " - 1s - loss: 0.0135 - acc: 0.9940 - val_loss: 0.0013 - val_acc: 1.0000\n",
      "Epoch 17/30\n",
      " - 1s - loss: 0.0334 - acc: 0.9867 - val_loss: 0.0068 - val_acc: 0.9963\n",
      "Epoch 18/30\n",
      " - 1s - loss: 0.0301 - acc: 0.9940 - val_loss: 0.0120 - val_acc: 0.9963\n",
      "Epoch 19/30\n",
      " - 1s - loss: 0.0431 - acc: 0.9879 - val_loss: 0.0122 - val_acc: 0.9890\n",
      "Epoch 20/30\n",
      " - 1s - loss: 0.0481 - acc: 0.9819 - val_loss: 0.0056 - val_acc: 0.9963\n",
      "Epoch 21/30\n",
      " - 1s - loss: 0.0284 - acc: 0.9903 - val_loss: 0.0050 - val_acc: 0.9963\n",
      "Epoch 22/30\n",
      " - 1s - loss: 0.0185 - acc: 0.9952 - val_loss: 0.0349 - val_acc: 0.9890\n",
      "Epoch 23/30\n",
      " - 1s - loss: 0.0157 - acc: 0.9952 - val_loss: 0.0054 - val_acc: 0.9963\n",
      "Epoch 24/30\n",
      " - 1s - loss: 0.0353 - acc: 0.9867 - val_loss: 0.0121 - val_acc: 0.9927\n",
      "Epoch 25/30\n",
      " - 1s - loss: 0.0297 - acc: 0.9903 - val_loss: 4.4114e-04 - val_acc: 1.0000\n",
      "Epoch 26/30\n",
      " - 1s - loss: 0.0487 - acc: 0.9843 - val_loss: 0.0119 - val_acc: 0.9963\n",
      "Epoch 27/30\n",
      " - 1s - loss: 0.0600 - acc: 0.9770 - val_loss: 0.0056 - val_acc: 0.9963\n",
      "Epoch 28/30\n",
      " - 1s - loss: 0.0454 - acc: 0.9891 - val_loss: 0.0018 - val_acc: 1.0000\n",
      "Epoch 29/30\n",
      " - 1s - loss: 0.0594 - acc: 0.9782 - val_loss: 0.0089 - val_acc: 0.9963\n",
      "Epoch 30/30\n",
      " - 1s - loss: 0.0293 - acc: 0.9903 - val_loss: 5.9805e-04 - val_acc: 1.0000\n"
     ]
    }
   ],
   "source": [
    "history = model.fit(train_features, \n",
    "                    train_labels, \n",
    "                    epochs=30,\n",
    "                    validation_data=(val_features, val_labels),\n",
    "                    verbose=2)"
   ]
  },
  {
   "cell_type": "code",
   "execution_count": 9,
   "metadata": {},
   "outputs": [
    {
     "data": {
      "image/png": "[encoded data removed]",
      "text/plain": [
       "<matplotlib.figure.Figure at 0x294666e0080>"
      ]
     },
     "metadata": {},
     "output_type": "display_data"
    },
    {
     "data": {
      "image/png": "[encoded data removed]",
      "text/plain": [
       "<matplotlib.figure.Figure at 0x29352937e80>"
      ]
     },
     "metadata": {},
     "output_type": "display_data"
    }
   ],
   "source": [
    "import matplotlib.pyplot as plt\n",
    "\n",
    "acc = history.history['acc']\n",
    "val_acc = history.history['val_acc']\n",
    "loss = history.history['loss']\n",
    "val_loss = history.history['val_loss']\n",
    "\n",
    "epochs = range(len(acc))\n",
    "\n",
    "plt.plot(epochs, acc, 'bo', label='Training acc')\n",
    "plt.plot(epochs, val_acc, 'b', label='Validation acc')\n",
    "plt.title('Training and validation accuracy')\n",
    "plt.legend()\n",
    "\n",
    "plt.figure()\n",
    "\n",
    "plt.plot(epochs, loss, 'bo', label='Training loss')\n",
    "plt.plot(epochs, val_loss, 'b', label='Validation loss')\n",
    "plt.title('Training and validation loss')\n",
    "plt.legend()\n",
    "\n",
    "plt.show()"
   ]
  },
  {
   "cell_type": "code",
   "execution_count": 10,
   "metadata": {},
   "outputs": [
    {
     "name": "stdout",
     "output_type": "stream",
     "text": [
      "273/273 [==============================] - 0s 242us/step\n"
     ]
    },
    {
     "data": {
      "text/plain": [
       "[0.001784714487407505, 1.0]"
      ]
     },
     "execution_count": 10,
     "metadata": {},
     "output_type": "execute_result"
    }
   ],
   "source": [
    "model.evaluate(test_features, test_labels)"
   ]
  },
  {
   "cell_type": "code",
   "execution_count": 11,
   "metadata": {},
   "outputs": [],
   "source": [
    "model.save('dense_top.h5')"
   ]
  },
  {
   "cell_type": "code",
   "execution_count": null,
   "metadata": {},
   "outputs": [],
   "source": []
  }
 ],
 "metadata": {
  "kernelspec": {
   "display_name": "Python 3",
   "language": "python",
   "name": "python3"
  },
  "language_info": {
   "codemirror_mode": {
    "name": "ipython",
    "version": 3
   },
   "file_extension": ".py",
   "mimetype": "text/x-python",
   "name": "python",
   "nbconvert_exporter": "python",
   "pygments_lexer": "ipython3",
   "version": "3.6.4"
  }
 },
 "nbformat": 4,
 "nbformat_minor": 2
}
