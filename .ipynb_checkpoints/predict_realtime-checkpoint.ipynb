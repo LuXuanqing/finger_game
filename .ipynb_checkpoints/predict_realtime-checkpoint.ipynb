{
 "cells": [
  {
   "cell_type": "code",
   "execution_count": 1,
   "metadata": {},
   "outputs": [
    {
     "name": "stderr",
     "output_type": "stream",
     "text": [
      "C:\\Users\\admin\\Anaconda3\\lib\\site-packages\\h5py\\__init__.py:34: FutureWarning: Conversion of the second argument of issubdtype from `float` to `np.floating` is deprecated. In future, it will be treated as `np.float64 == np.dtype(float).type`.\n",
      "  from ._conv import register_converters as _register_converters\n",
      "Using TensorFlow backend.\n"
     ]
    }
   ],
   "source": [
    "from keras import models\n",
    "from keras.preprocessing import image\n",
    "import numpy as np\n",
    "import cv2 as cv"
   ]
  },
  {
   "cell_type": "code",
   "execution_count": 2,
   "metadata": {},
   "outputs": [],
   "source": [
    "CLASS_INDEX = {'0': 'empty',\n",
    "              '1': 'paper',\n",
    "              '2': 'rock',\n",
    "              '3': 'scissor'}"
   ]
  },
  {
   "cell_type": "code",
   "execution_count": 3,
   "metadata": {},
   "outputs": [
    {
     "name": "stderr",
     "output_type": "stream",
     "text": [
      "C:\\Users\\admin\\Anaconda3\\lib\\site-packages\\keras\\models.py:255: UserWarning: No training configuration found in save file: the model was *not* compiled. Compile it manually.\n",
      "  warnings.warn('No training configuration found in save file: '\n"
     ]
    }
   ],
   "source": [
    "model = models.load_model('my_model_final.h5')"
   ]
  },
  {
   "cell_type": "code",
   "execution_count": 4,
   "metadata": {},
   "outputs": [],
   "source": [
    "def decode(preds):\n",
    "    results = []\n",
    "    for pred in preds:\n",
    "        index = pred.argmax()\n",
    "        result = CLASS_INDEX[str(index)]\n",
    "        results.append(result)\n",
    "    return results"
   ]
  },
  {
   "cell_type": "code",
   "execution_count": 5,
   "metadata": {},
   "outputs": [],
   "source": [
    "def preprocess(arr):\n",
    "    # resize\n",
    "    x = cv.resize(arr,(320,240))\n",
    "    # BGR 2 RGB\n",
    "    x = cv.cvtColor(x, cv.COLOR_BGR2RGB)\n",
    "    x = np.expand_dims(x,0).astype('float32')\n",
    "    x /= 255\n",
    "    return x"
   ]
  },
  {
   "cell_type": "code",
   "execution_count": 6,
   "metadata": {},
   "outputs": [],
   "source": [
    "def ka():\n",
    "    cap = cv.VideoCapture(0)\n",
    "    while True:\n",
    "        s,f = cap.read()  \n",
    "        # predict\n",
    "        x = preprocess(f)\n",
    "        y = model.predict(x)\n",
    "        r = decode(y)\n",
    "        # plot result\n",
    "        cv.putText(img=f,\n",
    "                   text=r[0],\n",
    "                   org=(250,50),\n",
    "                   fontFace=cv.FONT_HERSHEY_SIMPLEX,\n",
    "                   fontScale=1,\n",
    "                   color=(0,255,255),\n",
    "                   thickness=2)\n",
    "        # show image\n",
    "        cv.imshow('webcam',f)\n",
    "        if cv.waitKey(1) & 0xFF == ord('q'):\n",
    "            break\n",
    "    cv.destroyAllWindows()\n",
    "    cap.release()"
   ]
  },
  {
   "cell_type": "code",
   "execution_count": 7,
   "metadata": {},
   "outputs": [],
   "source": [
    "ka()"
   ]
  }
 ],
 "metadata": {
  "kernelspec": {
   "display_name": "Python 3",
   "language": "python",
   "name": "python3"
  },
  "language_info": {
   "codemirror_mode": {
    "name": "ipython",
    "version": 3
   },
   "file_extension": ".py",
   "mimetype": "text/x-python",
   "name": "python",
   "nbconvert_exporter": "python",
   "pygments_lexer": "ipython3",
   "version": "3.6.4"
  }
 },
 "nbformat": 4,
 "nbformat_minor": 2
}
